{
 "cells": [
  {
   "cell_type": "code",
   "execution_count": 1,
   "metadata": {},
   "outputs": [],
   "source": [
    "import pandas as pd\n",
    "import numpy as np\n",
    "from pandas_datareader import data, wb"
   ]
  },
  {
   "cell_type": "code",
   "execution_count": 2,
   "metadata": {},
   "outputs": [],
   "source": [
    "from ipywidgets import widgets\n",
    "from IPython.display import display"
   ]
  },
  {
   "cell_type": "code",
   "execution_count": 3,
   "metadata": {},
   "outputs": [],
   "source": [
    "def stock(arg):\n",
    "    #get all available tickers\n",
    "    tickers = list(data.get_iex_symbols()['symbol'])\n",
    "    stock=[]\n",
    "    global start\n",
    "    global end\n",
    "    global n\n",
    "    #get the start date\n",
    "    start_date=start.value\n",
    "    #get the end data\n",
    "    end_date=end.value\n",
    "    #get N value from \n",
    "    N=int(n.value)\n",
    "    avg_price_book_ratio=pd.Series(dtype=np.float64)\n",
    "    if start_date!='' and end_date!='':\n",
    "        try:\n",
    "            for i in tickers:\n",
    "                try:\n",
    "                    #find the book value\n",
    "                    book=data.get_quote_yahoo(i)['bookValue'][i]\n",
    "                    stock.append(data.DataReader(i,'yahoo',start_date,end_date))\n",
    "                    #find N-average value\n",
    "                    N_average=stock[-1]['Close'].sort_values().iloc[0:N].mean()\n",
    "                    \n",
    "                    #find the N-average price to book ratio\n",
    "                    avg_price_book_ratio[i]=N_average/book\n",
    "                    \n",
    "                except:\n",
    "                    del tickers[tickers.index(i)]\n",
    "                    \n",
    "            stock_data=pd.concat(stock,keys=tickers,axis=1)\n",
    "            stock_data.columns.names = ['Ticker','Stock Info']\n",
    "            #find closing price of the start date\n",
    "            start=stock_data.xs('Close',level='Stock Info',axis=1).iloc[0]\n",
    "            #find closing price of end date\n",
    "            end=stock_data.xs('Close',level='Stock Info',axis=1).iloc[-1]\n",
    "            #calculate dividend from the data\n",
    "            dividend=stock_data.xs('Close',level='Stock Info',axis=1)-stock_data.xs('Adj Close',level='Stock Info',axis=1)\n",
    "            #find total dividend\n",
    "            total_dividend=dividend.sum()\n",
    "            #find total years\n",
    "            years=set(map(lambda x:x.year,stock_data.index))\n",
    "            #find compound annual growth rate\n",
    "            CAGR=((end+total_dividend/start)**(1/len(years)))-1\n",
    "            CAGR=CAGR.map(lambda x:'{:.3f}%'.format(x))\n",
    "            print('Compound Annual Growth Rate')\n",
    "            print(CAGR)\n",
    "            print('N-year average price to book ratio')\n",
    "            print(avg_price_book_ratio)\n",
    "        except:\n",
    "            print('please enter correct date format')\n",
    "    "
   ]
  },
  {
   "cell_type": "code",
   "execution_count": 4,
   "metadata": {},
   "outputs": [
    {
     "name": "stdout",
     "output_type": "stream",
     "text": [
      "Start Date\n"
     ]
    },
    {
     "data": {
      "application/vnd.jupyter.widget-view+json": {
       "model_id": "c09f3e60bffd45c8a65238082c143cd4",
       "version_major": 2,
       "version_minor": 0
      },
      "text/plain": [
       "Text(value='')"
      ]
     },
     "metadata": {},
     "output_type": "display_data"
    },
    {
     "name": "stdout",
     "output_type": "stream",
     "text": [
      "End Date\n"
     ]
    },
    {
     "data": {
      "application/vnd.jupyter.widget-view+json": {
       "model_id": "ee0a5a0e33ed49efab33b3a525e9004e",
       "version_major": 2,
       "version_minor": 0
      },
      "text/plain": [
       "Text(value='')"
      ]
     },
     "metadata": {},
     "output_type": "display_data"
    },
    {
     "name": "stdout",
     "output_type": "stream",
     "text": [
      "N\n"
     ]
    },
    {
     "data": {
      "application/vnd.jupyter.widget-view+json": {
       "model_id": "1a6192a0664f4a83828fca0cd321ceba",
       "version_major": 2,
       "version_minor": 0
      },
      "text/plain": [
       "Text(value='')"
      ]
     },
     "metadata": {},
     "output_type": "display_data"
    },
    {
     "data": {
      "application/vnd.jupyter.widget-view+json": {
       "model_id": "8cacb2ce01be4b6e89c353c092d11c78",
       "version_major": 2,
       "version_minor": 0
      },
      "text/plain": [
       "Button(description='Refresh', style=ButtonStyle())"
      ]
     },
     "metadata": {},
     "output_type": "display_data"
    }
   ],
   "source": [
    "button=widgets.Button(description='Refresh')\n",
    "start=widgets.Text()\n",
    "end=widgets.Text()\n",
    "n=widgets.Text()\n",
    "\n",
    "button.on_click(stock)\n",
    "print('Start Date')\n",
    "display(start)\n",
    "print('End Date')\n",
    "display(end)\n",
    "print('N')\n",
    "display(n)\n",
    "display(button)"
   ]
  },
  {
   "cell_type": "code",
   "execution_count": null,
   "metadata": {},
   "outputs": [],
   "source": []
  }
 ],
 "metadata": {
  "kernelspec": {
   "display_name": "Python 3",
   "language": "python",
   "name": "python3"
  },
  "language_info": {
   "codemirror_mode": {
    "name": "ipython",
    "version": 3
   },
   "file_extension": ".py",
   "mimetype": "text/x-python",
   "name": "python",
   "nbconvert_exporter": "python",
   "pygments_lexer": "ipython3",
   "version": "3.7.6"
  }
 },
 "nbformat": 4,
 "nbformat_minor": 4
}
